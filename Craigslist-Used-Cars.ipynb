{
 "cells": [
  {
   "attachments": {},
   "cell_type": "markdown",
   "id": "reasonable-radio",
   "metadata": {},
   "source": [
    "# Craigslist Used Cars"
   ]
  },
  {
   "attachments": {},
   "cell_type": "markdown",
   "id": "electric-sperm",
   "metadata": {},
   "source": [
    "## Import Libraries and Dataset"
   ]
  },
  {
   "cell_type": "code",
   "execution_count": 1,
   "id": "changing-modem",
   "metadata": {},
   "outputs": [],
   "source": [
    "import numpy as np\n",
    "import pandas as pd"
   ]
  },
  {
   "cell_type": "code",
   "execution_count": 2,
   "id": "separate-armenia",
   "metadata": {},
   "outputs": [],
   "source": [
    "zf = zipfile.ZipFile('Craigslist-Used-Cars.zip')\n",
    "data = pd.read_csv(zf.open('vehicles.csv'))"
   ]
  },
  {
   "cell_type": "code",
   "execution_count": 3,
   "id": "limiting-ladder",
   "metadata": {},
   "outputs": [
    {
     "data": {
      "text/html": [
       "<div>\n",
       "<style scoped>\n",
       "    .dataframe tbody tr th:only-of-type {\n",
       "        vertical-align: middle;\n",
       "    }\n",
       "\n",
       "    .dataframe tbody tr th {\n",
       "        vertical-align: top;\n",
       "    }\n",
       "\n",
       "    .dataframe thead th {\n",
       "        text-align: right;\n",
       "    }\n",
       "</style>\n",
       "<table border=\"1\" class=\"dataframe\">\n",
       "  <thead>\n",
       "    <tr style=\"text-align: right;\">\n",
       "      <th></th>\n",
       "      <th>Unnamed: 0</th>\n",
       "      <th>id</th>\n",
       "      <th>url</th>\n",
       "      <th>region</th>\n",
       "      <th>region_url</th>\n",
       "      <th>price</th>\n",
       "      <th>year</th>\n",
       "      <th>manufacturer</th>\n",
       "      <th>model</th>\n",
       "      <th>condition</th>\n",
       "      <th>...</th>\n",
       "      <th>drive</th>\n",
       "      <th>size</th>\n",
       "      <th>type</th>\n",
       "      <th>paint_color</th>\n",
       "      <th>image_url</th>\n",
       "      <th>description</th>\n",
       "      <th>state</th>\n",
       "      <th>lat</th>\n",
       "      <th>long</th>\n",
       "      <th>posting_date</th>\n",
       "    </tr>\n",
       "  </thead>\n",
       "  <tbody>\n",
       "    <tr>\n",
       "      <th>0</th>\n",
       "      <td>0</td>\n",
       "      <td>7240372487</td>\n",
       "      <td>https://auburn.craigslist.org/ctd/d/auburn-uni...</td>\n",
       "      <td>auburn</td>\n",
       "      <td>https://auburn.craigslist.org</td>\n",
       "      <td>35990</td>\n",
       "      <td>2010.0</td>\n",
       "      <td>chevrolet</td>\n",
       "      <td>corvette grand sport</td>\n",
       "      <td>good</td>\n",
       "      <td>...</td>\n",
       "      <td>rwd</td>\n",
       "      <td>NaN</td>\n",
       "      <td>other</td>\n",
       "      <td>NaN</td>\n",
       "      <td>https://images.craigslist.org/00N0N_ipkbHVZYf4...</td>\n",
       "      <td>Carvana is the safer way to buy a car During t...</td>\n",
       "      <td>al</td>\n",
       "      <td>32.590000</td>\n",
       "      <td>-85.480000</td>\n",
       "      <td>2020-12-02T08:11:30-0600</td>\n",
       "    </tr>\n",
       "    <tr>\n",
       "      <th>1</th>\n",
       "      <td>1</td>\n",
       "      <td>7240309422</td>\n",
       "      <td>https://auburn.craigslist.org/cto/d/auburn-201...</td>\n",
       "      <td>auburn</td>\n",
       "      <td>https://auburn.craigslist.org</td>\n",
       "      <td>7500</td>\n",
       "      <td>2014.0</td>\n",
       "      <td>hyundai</td>\n",
       "      <td>sonata</td>\n",
       "      <td>excellent</td>\n",
       "      <td>...</td>\n",
       "      <td>fwd</td>\n",
       "      <td>NaN</td>\n",
       "      <td>sedan</td>\n",
       "      <td>NaN</td>\n",
       "      <td>https://images.craigslist.org/00s0s_gBHYmJ5o7y...</td>\n",
       "      <td>I'll move to another city and try to sell my c...</td>\n",
       "      <td>al</td>\n",
       "      <td>32.547500</td>\n",
       "      <td>-85.468200</td>\n",
       "      <td>2020-12-02T02:11:50-0600</td>\n",
       "    </tr>\n",
       "    <tr>\n",
       "      <th>2</th>\n",
       "      <td>2</td>\n",
       "      <td>7240224296</td>\n",
       "      <td>https://auburn.craigslist.org/cto/d/auburn-200...</td>\n",
       "      <td>auburn</td>\n",
       "      <td>https://auburn.craigslist.org</td>\n",
       "      <td>4900</td>\n",
       "      <td>2006.0</td>\n",
       "      <td>bmw</td>\n",
       "      <td>x3 3.0i</td>\n",
       "      <td>good</td>\n",
       "      <td>...</td>\n",
       "      <td>NaN</td>\n",
       "      <td>NaN</td>\n",
       "      <td>SUV</td>\n",
       "      <td>blue</td>\n",
       "      <td>https://images.craigslist.org/00B0B_5zgEGWPOrt...</td>\n",
       "      <td>Clean 2006 BMW X3 3.0I.  Beautiful and rare Bl...</td>\n",
       "      <td>al</td>\n",
       "      <td>32.616807</td>\n",
       "      <td>-85.464149</td>\n",
       "      <td>2020-12-01T19:50:41-0600</td>\n",
       "    </tr>\n",
       "    <tr>\n",
       "      <th>3</th>\n",
       "      <td>3</td>\n",
       "      <td>7240103965</td>\n",
       "      <td>https://auburn.craigslist.org/cto/d/lanett-tru...</td>\n",
       "      <td>auburn</td>\n",
       "      <td>https://auburn.craigslist.org</td>\n",
       "      <td>2000</td>\n",
       "      <td>1974.0</td>\n",
       "      <td>chevrolet</td>\n",
       "      <td>c-10</td>\n",
       "      <td>good</td>\n",
       "      <td>...</td>\n",
       "      <td>rwd</td>\n",
       "      <td>full-size</td>\n",
       "      <td>pickup</td>\n",
       "      <td>blue</td>\n",
       "      <td>https://images.craigslist.org/00M0M_6o7KcDpArw...</td>\n",
       "      <td>1974 chev. truck (LONG BED) NEW starter front ...</td>\n",
       "      <td>al</td>\n",
       "      <td>32.861600</td>\n",
       "      <td>-85.216100</td>\n",
       "      <td>2020-12-01T15:54:45-0600</td>\n",
       "    </tr>\n",
       "    <tr>\n",
       "      <th>4</th>\n",
       "      <td>4</td>\n",
       "      <td>7239983776</td>\n",
       "      <td>https://auburn.craigslist.org/cto/d/auburn-200...</td>\n",
       "      <td>auburn</td>\n",
       "      <td>https://auburn.craigslist.org</td>\n",
       "      <td>19500</td>\n",
       "      <td>2005.0</td>\n",
       "      <td>ford</td>\n",
       "      <td>f350 lariat</td>\n",
       "      <td>excellent</td>\n",
       "      <td>...</td>\n",
       "      <td>4wd</td>\n",
       "      <td>full-size</td>\n",
       "      <td>pickup</td>\n",
       "      <td>blue</td>\n",
       "      <td>https://images.craigslist.org/00p0p_b95l1EgUfl...</td>\n",
       "      <td>2005 Ford F350 Lariat (Bullet Proofed). This t...</td>\n",
       "      <td>al</td>\n",
       "      <td>32.547500</td>\n",
       "      <td>-85.468200</td>\n",
       "      <td>2020-12-01T12:53:56-0600</td>\n",
       "    </tr>\n",
       "  </tbody>\n",
       "</table>\n",
       "<p>5 rows × 26 columns</p>\n",
       "</div>"
      ],
      "text/plain": [
       "   Unnamed: 0          id                                                url  \\\n",
       "0           0  7240372487  https://auburn.craigslist.org/ctd/d/auburn-uni...   \n",
       "1           1  7240309422  https://auburn.craigslist.org/cto/d/auburn-201...   \n",
       "2           2  7240224296  https://auburn.craigslist.org/cto/d/auburn-200...   \n",
       "3           3  7240103965  https://auburn.craigslist.org/cto/d/lanett-tru...   \n",
       "4           4  7239983776  https://auburn.craigslist.org/cto/d/auburn-200...   \n",
       "\n",
       "   region                     region_url  price    year manufacturer  \\\n",
       "0  auburn  https://auburn.craigslist.org  35990  2010.0    chevrolet   \n",
       "1  auburn  https://auburn.craigslist.org   7500  2014.0      hyundai   \n",
       "2  auburn  https://auburn.craigslist.org   4900  2006.0          bmw   \n",
       "3  auburn  https://auburn.craigslist.org   2000  1974.0    chevrolet   \n",
       "4  auburn  https://auburn.craigslist.org  19500  2005.0         ford   \n",
       "\n",
       "                  model  condition  ... drive       size    type paint_color  \\\n",
       "0  corvette grand sport       good  ...   rwd        NaN   other         NaN   \n",
       "1                sonata  excellent  ...   fwd        NaN   sedan         NaN   \n",
       "2               x3 3.0i       good  ...   NaN        NaN     SUV        blue   \n",
       "3                  c-10       good  ...   rwd  full-size  pickup        blue   \n",
       "4           f350 lariat  excellent  ...   4wd  full-size  pickup        blue   \n",
       "\n",
       "                                           image_url  \\\n",
       "0  https://images.craigslist.org/00N0N_ipkbHVZYf4...   \n",
       "1  https://images.craigslist.org/00s0s_gBHYmJ5o7y...   \n",
       "2  https://images.craigslist.org/00B0B_5zgEGWPOrt...   \n",
       "3  https://images.craigslist.org/00M0M_6o7KcDpArw...   \n",
       "4  https://images.craigslist.org/00p0p_b95l1EgUfl...   \n",
       "\n",
       "                                         description state        lat  \\\n",
       "0  Carvana is the safer way to buy a car During t...    al  32.590000   \n",
       "1  I'll move to another city and try to sell my c...    al  32.547500   \n",
       "2  Clean 2006 BMW X3 3.0I.  Beautiful and rare Bl...    al  32.616807   \n",
       "3  1974 chev. truck (LONG BED) NEW starter front ...    al  32.861600   \n",
       "4  2005 Ford F350 Lariat (Bullet Proofed). This t...    al  32.547500   \n",
       "\n",
       "        long              posting_date  \n",
       "0 -85.480000  2020-12-02T08:11:30-0600  \n",
       "1 -85.468200  2020-12-02T02:11:50-0600  \n",
       "2 -85.464149  2020-12-01T19:50:41-0600  \n",
       "3 -85.216100  2020-12-01T15:54:45-0600  \n",
       "4 -85.468200  2020-12-01T12:53:56-0600  \n",
       "\n",
       "[5 rows x 26 columns]"
      ]
     },
     "execution_count": 3,
     "metadata": {},
     "output_type": "execute_result"
    }
   ],
   "source": [
    "data.head()"
   ]
  },
  {
   "attachments": {},
   "cell_type": "markdown",
   "id": "3cbfe283",
   "metadata": {},
   "source": [
    "## EDA and Cleaning"
   ]
  },
  {
   "attachments": {},
   "cell_type": "markdown",
   "id": "f32332ba",
   "metadata": {},
   "source": [
    "#### Detecting and removing outliers "
   ]
  },
  {
   "cell_type": "code",
   "execution_count": null,
   "id": "1f0d303a",
   "metadata": {},
   "outputs": [
    {
     "data": {
      "text/plain": [
       "119800.0"
      ]
     },
     "metadata": {},
     "output_type": "display_data"
    }
   ],
   "source": [
    "np.quantile(data.price, 0.999)"
   ]
  },
  {
   "cell_type": "code",
   "execution_count": null,
   "id": "5880ec95",
   "metadata": {},
   "outputs": [
    {
     "data": {
      "text/plain": [
       "nan"
      ]
     },
     "metadata": {},
     "output_type": "display_data"
    }
   ],
   "source": [
    "np.quantile(data.odometer, 0.99)"
   ]
  },
  {
   "cell_type": "code",
   "execution_count": null,
   "id": "23ddf5cf",
   "metadata": {},
   "outputs": [],
   "source": [
    "data = data[['id', 'region', 'price', 'year',\n",
    "       'manufacturer', 'model', 'condition', 'cylinders', 'fuel', 'odometer',\n",
    "       'title_status', 'transmission', 'drive', 'size', 'type',\n",
    "       'paint_color', 'description', 'state', 'lat', 'long']]\n",
    "data = data[data.price > 999]\n",
    "data = data[data.price <=85000]\n",
    "data = data[data.odometer <= 290098.7499999992]"
   ]
  },
  {
   "cell_type": "code",
   "execution_count": null,
   "id": "5c87274d",
   "metadata": {},
   "outputs": [],
   "source": [
    "data = data.dropna(axis=0)"
   ]
  },
  {
   "cell_type": "code",
   "execution_count": null,
   "id": "666862e3",
   "metadata": {},
   "outputs": [
    {
     "data": {
      "text/plain": [
       "(81021, 20)"
      ]
     },
     "metadata": {},
     "output_type": "display_data"
    }
   ],
   "source": [
    "data.shape"
   ]
  },
  {
   "attachments": {},
   "cell_type": "markdown",
   "id": "ce7169d0",
   "metadata": {},
   "source": [
    "#### Re-define price column"
   ]
  },
  {
   "cell_type": "code",
   "execution_count": null,
   "id": "01da1ac9",
   "metadata": {},
   "outputs": [],
   "source": [
    "## Create a column used to collect price range information\n",
    "data['price_range'] = 0\n",
    "\n",
    "## Use 5000 as a baseline level to distribute each price range\n",
    "data['price_range'] = rsm.ifelse(data.price >= 5000, 'above_5000', 'below_5000')\n",
    "\n",
    "data['price_range'] = rsm.ifelse(\n",
    "    (data.price > 5000) & (data.price <= 10000), \n",
    "    'above_5000 & below_10000', \n",
    "    data['price_range']\n",
    ")\n",
    "\n",
    "data['price_range'] = rsm.ifelse(\n",
    "    (data.price > 10000) & (data.price <= 15000), \n",
    "    'above_10000 & below_15000', \n",
    "    data['price_range']\n",
    ")\n",
    "\n",
    "data['price_range'] = rsm.ifelse(\n",
    "    (data.price > 15000) & (data.price <= 20000), \n",
    "    'above_15000 & below_20000', \n",
    "    data['price_range']\n",
    ")\n",
    "\n",
    "data['price_range'] = rsm.ifelse(\n",
    "    (data.price > 20000) & (data.price <= 25000), \n",
    "    'above_20000 & below_25000', \n",
    "    data['price_range']\n",
    ")\n",
    "\n",
    "data['price_range'] = rsm.ifelse(\n",
    "    (data.price >25000) & (data.price <= 30000), \n",
    "    'above_25000 & below_30000', \n",
    "    data['price_range']\n",
    ")\n",
    "\n",
    "data['price_range'] = rsm.ifelse(\n",
    "    (data.price >30000) & (data.price <= 35000), \n",
    "    'above_30000 & below_35000', \n",
    "    data['price_range']\n",
    ")\n",
    "\n",
    "data['price_range'] = rsm.ifelse(\n",
    "    (data.price >35000) & (data.price <= 40000), \n",
    "    'above_35000 & below_40000', \n",
    "    data['price_range']\n",
    ")\n",
    "\n",
    "data['price_range'] = rsm.ifelse(\n",
    "    (data.price >40000) & (data.price <= 45000), \n",
    "    'above_40000 & below_45000', \n",
    "    data['price_range']\n",
    ")\n",
    "\n",
    "data['price_range'] = rsm.ifelse(\n",
    "    (data.price >45000) & (data.price <= 50000), \n",
    "    'above_45000 & below_50000', \n",
    "    data['price_range']\n",
    ")\n",
    "\n",
    "data['price_range'] = rsm.ifelse(\n",
    "    (data.price >50000) & (data.price <= 55000), \n",
    "    'above_50000 & below_55000', \n",
    "    data['price_range']\n",
    ")\n",
    "\n",
    "data['price_range'] = rsm.ifelse(\n",
    "    (data.price >55000) & (data.price <= 60000), \n",
    "    'above_55000 & below_60000', \n",
    "    data['price_range']\n",
    ")\n",
    "\n",
    "data['price_range'] = rsm.ifelse(\n",
    "    (data.price >60000) & (data.price <= 65000), \n",
    "    'above_60000 & below_65000', \n",
    "    data['price_range']\n",
    ")\n",
    "\n",
    "data['price_range'] = rsm.ifelse(\n",
    "    (data.price >65000) & (data.price <= 70000), \n",
    "    'above_65000 & below_70000', \n",
    "    data['price_range']\n",
    ")\n",
    "\n",
    "data['price_range'] = rsm.ifelse(\n",
    "    (data.price >70000), \n",
    "    'above_70000 ', \n",
    "    data['price_range']\n",
    ")"
   ]
  }
 ],
 "metadata": {
  "kernelspec": {
   "display_name": "Python 3",
   "language": "python",
   "name": "python3"
  },
  "language_info": {
   "codemirror_mode": {
    "name": "ipython",
    "version": 3
   },
   "file_extension": ".py",
   "mimetype": "text/x-python",
   "name": "python",
   "nbconvert_exporter": "python",
   "pygments_lexer": "ipython3",
   "version": "3.8.5"
  }
 },
 "nbformat": 4,
 "nbformat_minor": 5
}
